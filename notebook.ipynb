{
 "cells": [
  {
   "cell_type": "code",
   "execution_count": 72,
   "metadata": {},
   "outputs": [
    {
     "data": {
      "text/html": [
       "<div>\n",
       "<style scoped>\n",
       "    .dataframe tbody tr th:only-of-type {\n",
       "        vertical-align: middle;\n",
       "    }\n",
       "\n",
       "    .dataframe tbody tr th {\n",
       "        vertical-align: top;\n",
       "    }\n",
       "\n",
       "    .dataframe thead th {\n",
       "        text-align: right;\n",
       "    }\n",
       "</style>\n",
       "<table border=\"1\" class=\"dataframe\">\n",
       "  <thead>\n",
       "    <tr style=\"text-align: right;\">\n",
       "      <th></th>\n",
       "      <th>age</th>\n",
       "      <th>op_year</th>\n",
       "      <th>ax_nodes</th>\n",
       "      <th>target</th>\n",
       "    </tr>\n",
       "  </thead>\n",
       "  <tbody>\n",
       "    <tr>\n",
       "      <td>0</td>\n",
       "      <td>30</td>\n",
       "      <td>64</td>\n",
       "      <td>1</td>\n",
       "      <td>1</td>\n",
       "    </tr>\n",
       "    <tr>\n",
       "      <td>1</td>\n",
       "      <td>30</td>\n",
       "      <td>62</td>\n",
       "      <td>3</td>\n",
       "      <td>1</td>\n",
       "    </tr>\n",
       "    <tr>\n",
       "      <td>2</td>\n",
       "      <td>30</td>\n",
       "      <td>65</td>\n",
       "      <td>0</td>\n",
       "      <td>1</td>\n",
       "    </tr>\n",
       "    <tr>\n",
       "      <td>3</td>\n",
       "      <td>31</td>\n",
       "      <td>59</td>\n",
       "      <td>2</td>\n",
       "      <td>1</td>\n",
       "    </tr>\n",
       "    <tr>\n",
       "      <td>4</td>\n",
       "      <td>31</td>\n",
       "      <td>65</td>\n",
       "      <td>4</td>\n",
       "      <td>1</td>\n",
       "    </tr>\n",
       "  </tbody>\n",
       "</table>\n",
       "</div>"
      ],
      "text/plain": [
       "   age  op_year  ax_nodes  target\n",
       "0   30       64         1       1\n",
       "1   30       62         3       1\n",
       "2   30       65         0       1\n",
       "3   31       59         2       1\n",
       "4   31       65         4       1"
      ]
     },
     "execution_count": 72,
     "metadata": {},
     "output_type": "execute_result"
    }
   ],
   "source": [
    "import pandas as pd\n",
    "import numpy as np\n",
    "import matplotlib.pyplot as plt\n",
    "\n",
    "# Load heart data\n",
    "df = pd.read_csv('haberman.csv')\n",
    "df.head()"
   ]
  },
  {
   "cell_type": "code",
   "execution_count": 73,
   "metadata": {},
   "outputs": [],
   "source": [
    "# Perform train-test split\n",
    "from sklearn.model_selection import train_test_split\n",
    "\n",
    "X = df.drop('target', axis=1)\n",
    "y = df.target\n",
    "\n",
    "X_train, X_test, y_train, y_test = train_test_split(X, y, test_size=0.25, \n",
    "                                                    random_state=24)"
   ]
  },
  {
   "cell_type": "markdown",
   "metadata": {},
   "source": [
    "Optimizing with f1 score"
   ]
  },
  {
   "cell_type": "code",
   "execution_count": 79,
   "metadata": {
    "scrolled": true
   },
   "outputs": [
    {
     "name": "stdout",
     "output_type": "stream",
     "text": [
      "F-0.5 Score: 0.8173076923076922\n",
      "F-1 Score: 0.8292682926829269\n",
      "F-2 Score: 0.8415841584158416\n"
     ]
    },
    {
     "data": {
      "image/png": "[encoded data removed]",
      "text/plain": [
       "<Figure size 432x288 with 2 Axes>"
      ]
     },
     "metadata": {
      "needs_background": "light"
     },
     "output_type": "display_data"
    }
   ],
   "source": [
    "# Fit classifier with best parameters and make test predictions\n",
    "from sklearn.ensemble import RandomForestClassifier\n",
    "from sklearn.metrics import f1_score, fbeta_score, plot_confusion_matrix\n",
    "\n",
    "clf = RandomForestClassifier()\n",
    "clf.fit(X_train, y_train)\n",
    "y_hat_test = clf.predict(X_test)\n",
    "\n",
    "# Display f1 score\n",
    "print(f'F-0.5 Score: {fbeta_score(y_test, y_hat_test, beta=0.5)}')\n",
    "print(f'F-1 Score: {f1_score(y_test, y_hat_test)}')\n",
    "print(f'F-2 Score: {fbeta_score(y_test, y_hat_test, beta=2)}')\n",
    "\n",
    "# Plot confusion matrix\n",
    "plot_confusion_matrix(clf, X_test, y_test, cmap='Blues',\n",
    "                      display_labels=['Live >5 Years', 'Live <5 Years']);"
   ]
  },
  {
   "cell_type": "markdown",
   "metadata": {},
   "source": [
    "Optimizing with f5 score"
   ]
  },
  {
   "cell_type": "code",
   "execution_count": 82,
   "metadata": {
    "scrolled": false
   },
   "outputs": [
    {
     "name": "stdout",
     "output_type": "stream",
     "text": [
      "F-0.5 Score: 0.7986111111111112\n",
      "F-1 Score: 0.7863247863247863\n",
      "F-2 Score: 0.7744107744107745\n"
     ]
    },
    {
     "data": {
      "image/png": "[encoded data removed]",
      "text/plain": [
       "<Figure size 432x288 with 2 Axes>"
      ]
     },
     "metadata": {
      "needs_background": "light"
     },
     "output_type": "display_data"
    }
   ],
   "source": [
    "# Perform SMOTE to balance classes\n",
    "from imblearn.over_sampling import SMOTE\n",
    "smote = SMOTE(random_state=1)\n",
    "smote.fit(X_train, y_train)\n",
    "X_train, y_train = smote.sample(X_train, y_train)\n",
    "\n",
    "# Fit a logistic regression model and make predictions\n",
    "clf_2 = RandomForestClassifier()\n",
    "clf_2.fit(X_train, y_train)\n",
    "y_hat_test_2 = clf_2.predict(X_test)\n",
    "\n",
    "# Display some fbeta measures\n",
    "print(f'F-0.5 Score: {fbeta_score(y_test, y_hat_test_2, beta=0.5)}')\n",
    "print(f'F-1 Score: {f1_score(y_test, y_hat_test_2)}')\n",
    "print(f'F-2 Score: {fbeta_score(y_test, y_hat_test_2, beta=2)}')\n",
    "\n",
    "# Plot confusion matrix\n",
    "plot_confusion_matrix(clf_2, X_test, y_test, cmap='Blues',\n",
    "                      display_labels=['Live >5 Years', 'Live <5 Years']);"
   ]
  },
  {
   "cell_type": "code",
   "execution_count": 69,
   "metadata": {},
   "outputs": [
    {
     "name": "stdout",
     "output_type": "stream",
     "text": [
      "{'class_weight': 'balanced', 'max_depth': None, 'min_samples_leaf': 15, 'min_samples_split': 2, 'n_estimators': 10}\n"
     ]
    }
   ],
   "source": [
    "# Get best parameters from grid search\n",
    "best_f5_params = gs_f5.best_params_\n",
    "print(best_f5_params)"
   ]
  },
  {
   "cell_type": "code",
   "execution_count": 70,
   "metadata": {},
   "outputs": [
    {
     "name": "stdout",
     "output_type": "stream",
     "text": [
      "F5 Score: 0.8333125026038412\n"
     ]
    },
    {
     "data": {
      "image/png": "[encoded data removed]",
      "text/plain": [
       "<Figure size 432x288 with 2 Axes>"
      ]
     },
     "metadata": {
      "needs_background": "light"
     },
     "output_type": "display_data"
    }
   ],
   "source": [
    "\n",
    "# Fit classifier with best parameters and make test predictions\n",
    "clf_f5 = RandomForestClassifier(**best_f5_params)\n",
    "clf_f5.fit(X_train, y_train)\n",
    "y_hat_test_f5 = clf_f5.predict(X_test)\n",
    "\n",
    "# Display f5 score\n",
    "print(f'F5 Score: {fbeta_score(y_test, y_hat_test_f5, beta=0.01)}')\n",
    "\n",
    "# Plot confusion matrix\n",
    "plot_confusion_matrix(clf_f5, X_test, y_test, cmap='Blues',\n",
    "                      display_labels=['Live >5 Years', 'Live <5 Years']);"
   ]
  },
  {
   "cell_type": "code",
   "execution_count": null,
   "metadata": {
    "scrolled": false
   },
   "outputs": [],
   "source": []
  },
  {
   "cell_type": "code",
   "execution_count": 71,
   "metadata": {},
   "outputs": [],
   "source": [
    "from sklearn.linear_model import LogisticRegression"
   ]
  },
  {
   "cell_type": "code",
   "execution_count": null,
   "metadata": {},
   "outputs": [],
   "source": [
    "LogisticRegression()"
   ]
  }
 ],
 "metadata": {
  "kernelspec": {
   "display_name": "Python 3",
   "language": "python",
   "name": "python3"
  },
  "language_info": {
   "codemirror_mode": {
    "name": "ipython",
    "version": 3
   },
   "file_extension": ".py",
   "mimetype": "text/x-python",
   "name": "python",
   "nbconvert_exporter": "python",
   "pygments_lexer": "ipython3",
   "version": "3.6.9"
  },
  "toc": {
   "base_numbering": 1,
   "nav_menu": {},
   "number_sections": true,
   "sideBar": true,
   "skip_h1_title": false,
   "title_cell": "Table of Contents",
   "title_sidebar": "Contents",
   "toc_cell": false,
   "toc_position": {},
   "toc_section_display": true,
   "toc_window_display": false
  }
 },
 "nbformat": 4,
 "nbformat_minor": 2
}
